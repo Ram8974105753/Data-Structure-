{
  "nbformat": 4,
  "nbformat_minor": 0,
  "metadata": {
    "colab": {
      "provenance": []
    },
    "kernelspec": {
      "name": "python3",
      "display_name": "Python 3"
    },
    "language_info": {
      "name": "python"
    }
  },
  "cells": [
    {
      "cell_type": "markdown",
      "source": [
        "\n",
        "\n",
        "---\n",
        "\n"
      ],
      "metadata": {
        "id": "RFiZiiEqxRDi"
      }
    },
    {
      "cell_type": "markdown",
      "source": [
        "Data Structure\n"
      ],
      "metadata": {
        "id": "7UiDXo4txVvJ"
      }
    },
    {
      "cell_type": "markdown",
      "source": [
        "1.  What are data structures, and why are they important?\n",
        "    - Data structures are systematic ways of organizing, managing, and storing data in a computer so that it can be accessed and manipulated efficiently. They define how data is arranged in memory and provide mechanisms for performing operations such as insertion, deletion, searching, and sorting.\n",
        "\n",
        "    Linear Data Structures:\n",
        "\n",
        "   Arrays: Fixed-size collection of elements of the same type stored in contiguous memory.\n",
        "   Linked Lists: Sequence of elements (nodes) where each node points to the next.\n",
        "   Stacks: LIFO (Last In, First Out) structure.\n",
        "   Queues: FIFO (First In, First Out) structure.\n",
        "\n",
        "   Non-Linear Data Structures:\n",
        "\n",
        "   Trees: Hierarchical structure with nodes connected by edges (e.g., binary trees, binary search trees).\n",
        "   Graphs: A set of nodes (vertices) connected by edges.\n",
        "   Heaps: A special tree-based structure that satisfies the heap property.\n",
        "   Hash-Based Structures:\n",
        "\n",
        "   Hash Tables: Use a hash function to map keys to indices, enabling efficient  data retrieval.\n",
        "\n",
        "   Advanced Structures:\n",
        "\n",
        "   Tries: Tree structure for storing strings, often used in search operations.\n",
        "   Disjoint Sets: For managing groups of connected elements (e.g., in union-find operations).\n",
        "\n",
        "   It is important beacause Understanding data structures is fundamental for software development, data science, systems design, and competitive programming. It empowers developers to choose the right tools for the task, leading to better, more efficient solutions.\n",
        "2. Explain the difference between mutable and immutable data types with examples\n",
        "   \n",
        "   - Mutable Data Types\n",
        "  Definition: Objects whose values or state can be changed after creation without changing their identity.\n",
        "\n",
        "  Characteristics:\n",
        "\n",
        "  Allow modifications like adding, removing, or changing elements.\n",
        "  The memory location (identity) of the object remains the same.\n",
        "\n",
        "  Examples:\n",
        "\n",
        " Lists (in Python) Dictionaries\n",
        "\n",
        " Immutable Data Types\n",
        "Definition: Objects whose values or state cannot be changed after creation. Any modification creates a new object.\n",
        "\n",
        "  Characteristics:\n",
        "\n",
        "  Once created, the data cannot be altered.\n",
        "  A new object is created for any modification.\n",
        "  Examples:\n",
        "\n",
        "  Tuples in Python\n",
        "  Strings\n",
        "  Numbers\n",
        "3. What are the main differences between lists and tuples in Python?\n",
        "   - Feature\t List\t   Tuple\n",
        "     Mutability\tMutable\tImmutable\n",
        "     Syntax\t     [ ]\t  ( )\n",
        "  Performance\t  Slower\tFaster\n",
        "  Memory Usage\tHigher\tLower\n",
        "   Methods\tExtensive\tLimited (count, index)\n",
        "     Hashable\tNo\tYes (if elements are hashable)\n",
        "      Use Cases\tDynamic, changeable data\tFixed, constant data\n",
        "\n",
        "4. Describe how dictionaries store data?\n",
        "   - Key-Value Pairs:\n",
        "\n",
        "     A dictionary stores data in the form {key: value}.\n",
        "Keys act as unique identifiers for their associated values.\n",
        "Values can be any data type, while keys must be immutable (e.g., strings, numbers, tuples containing only immutable elements).\n",
        "\n",
        "   Hashing:\n",
        "\n",
        "    Dictionaries use a hash function to compute a unique hash value for each key.\n",
        "The hash value determines where the key-value pair is stored in the internal hash table.\n",
        "The hash function ensures that keys are distributed evenly across the hash table, reducing collisions.\n",
        "\n",
        "     Hash Table Structure:\n",
        "\n",
        "     Internally, a hash table is an array where each slot (or \"bucket\") can store key-value pairs.\n",
        "When a key is hashed, the resulting hash value determines the index of the bucket where the key-value pair is stored.\n",
        "\n",
        "     Handling Collisions:\n",
        "\n",
        "     Collisions occur when two different keys produce the same hash value.\n",
        "Python resolves collisions using open addressing or chaining (depending on the implementation).\n",
        "In open addressing, the dictionary searches for the next available slot in the hash table.\n",
        "\n",
        "   In chaining, each bucket stores a list of key-value pairs, and keys with the same hash value are added to the list.\n",
        "\n",
        "   Dynamic Resizing:\n",
        "\n",
        "   Python dictionaries automatically resize themselves when the load factor (ratio of used buckets to total buckets) exceeds a certain threshold.\n",
        "When resized, the hash table doubles in size, and all keys are rehashed to new positions. This ensures efficient performance as the dictionary grows.\n",
        "\n",
        "5. Why might you use a set instead of a list in Python?\n",
        "   -  Uniqueness\n",
        "   Reason: Sets automatically enforce uniqueness, meaning they do not allow duplicate elements.\n",
        "\n",
        "   - Fast Membership Testing\n",
        "Reason: Sets provide O(1) average time complexity for membership testing (e.g., x in set), whereas lists have O(n) time complexity.\n",
        "     - Performance in Set Operations\n",
        "Reason: Sets are optimized for mathematical operations such as union, intersection, difference, and symmetric difference. These operations are faster and more straightforward than using lists.\n",
        "    - Avoiding Duplicates During Construction\n",
        "Reason: Unlike lists, sets ensure that all elements are unique at the time of creation, saving effort and computation to deduplicate later.\n",
        "    - Readability and Intent\n",
        "Reason: Using a set makes the intent of the code clearer when you are working with a collection of unique elements or performing set operations.\n",
        "\n",
        "6.  What is a string in Python, and how is it different from a list?\n",
        "   - A string in Python is a sequence of characters enclosed in quotes (single, double, or triple). It is one of Python's fundamental data types and is used to represent text.\n",
        "\n",
        "      Use strings for:\n",
        "\n",
        "     Representing and manipulating text or characters.\n",
        "     Tasks like searching, replacing, or splitting textual data.\n",
        "\n",
        "     Use lists for:\n",
        "\n",
        "     Storing and managing collections of heterogeneous data.\n",
        "     Tasks that involve frequent modifications, such as adding or removing elements.\n",
        "\n",
        "7.  How do tuples ensure data integrity in Python?\n",
        "    - Tuples in Python ensure data integrity primarily through their immutability. Once created, the contents of a tuple cannot be modified. This property makes tuples ideal for situations where you want to protect data from unintended changes\n",
        "\n",
        "8.  What is a hash table, and how does it relate to dictionaries in Python?\n",
        "    - A hash table is a data structure that stores data in an associative manner, allowing for fast retrieval based on keys. It uses a hash function to compute a unique index (hash value) for each key, and this index determines where the corresponding value is stored in the table.\n",
        "\n",
        "     Keys and Values\n",
        "A dictionary stores data as key-value pairs, where the key is hashed to determine its storage location.\n",
        "     Hashing in Dictionaries\n",
        "When a key is added to a dictionary, Python computes its hash value using the built-in hash() function.\n",
        "This hash value is mapped to a specific index in the hash table, where the value is stored.\n",
        "\n",
        "     Collision Handling\n",
        "Python dictionaries use a combination of open addressing and a probing technique to resolve collisions efficiently.\n",
        "If two keys hash to the same index, the dictionary finds the next available slot.\n",
        "     Dynamic Resizing\n",
        "To maintain efficiency, dictionaries dynamically resize their hash table as the number of elements grows. When the table becomes too full, Python creates a larger table and rehashes all the keys.\n",
        "\n",
        "     Unordered Collection (Before Python 3.7)\n",
        "Before Python 3.7, dictionaries were unordered because the order of keys was determined by their hash values.\n",
        "From Python 3.7 onwards, dictionaries maintain insertion order while still being implemented as hash tables.\n",
        "\n",
        "9.  Can lists contain different data types in Python?\n",
        "    - Yes, lists in Python can contain elements of different data types. Python lists are highly versatile and allow you to store any combination of data types, including integers, floats, strings, other lists, dictionaries, custom objects, and more.\n",
        "10. Explain why strings are immutable in Python?\n",
        "    - Strings in Python are immutable, meaning their contents cannot be changed after they are created. This design choice provides several benefits and has significant implications for how strings behave in Python.\n",
        "\n",
        "     Reasons Strings Are Immutable\n",
        "\n",
        "     Memory Efficiency\n",
        "String Interning: Python uses a technique called string interning to optimize memory usage. Commonly used strings are stored in a shared pool, and immutability ensures these strings are not accidentally modified.\n",
        "\n",
        "     Hashability\n",
        "Strings are hashable because they are immutable, which allows them to be used as keys in dictionaries or elements in sets.\n",
        "     Thread Safety\n",
        "Immutability ensures that strings are inherently thread-safe. Multiple threads can safely read and share the same string without worrying about one thread modifying it.\n",
        "This makes strings a reliable choice in multi-threaded applications.\n",
        "\n",
        "     Predictability and Simplicity\n",
        "Immutability ensures that string objects remain consistent throughout their lifetime, avoiding side effects and making the code easier to reason about.\n",
        "\n",
        "11. What advantages do dictionaries offer over lists for certain tasks?\n",
        "    -  Fast Lookup by Key\n",
        "Advantage: Dictionaries allow for fast retrieval of values based on a key, with an average time complexity of O(1) for lookups. This is much faster than searching for an element in a list, which has an average time complexity of O(n).\n",
        "     - Storing Data with Unique Identifiers (Keys)\n",
        "Advantage: Dictionaries allow you to use unique keys to store and retrieve associated values. This makes it easy to manage data where each entry has a unique identifier.\n",
        "     - Avoiding Duplicates\n",
        "Advantage: In dictionaries, keys must be unique, so they inherently avoid duplicate keys. This is useful when you need to ensure that each element is represented only once by its key.\n",
        "12. Describe a scenario where using a tuple would be preferable over a list?\n",
        "    - A scenario where using a tuple would be preferable over a list is when you need to store a fixed, unchangeable collection of elements that should not be modified, and where data integrity and performance are important considerations.\n",
        "\n",
        "     Scenario: Storing Coordinates in a 2D Space\n",
        "Imagine you're working on a geospatial application that needs to store the coordinates of a point on a map (e.g., latitude and longitude). Since the coordinates should not change after they are initialized (they represent a fixed location), a tuple is a better choice than a list.\n",
        "\n",
        "13.  How do sets handle duplicate values in Python?\n",
        "     - In Python, sets are collections of unique elements, meaning they automatically eliminate duplicates. When you try to add a duplicate value to a set, the set will ignore it and keep only one occurrence of the value.\n",
        "\n",
        "     - Automatic Removal of Duplicates: When you add an element to a set, Python checks if the element is already present. If it is, the set does not add the element again.\n",
        "\n",
        "    - No Duplicate Storage: Sets do not store duplicate elements. If you try to add a duplicate, it will have no effect.\n",
        "\n",
        "14.  How does the “in” keyword work differently for lists and dictionaries?\n",
        "     - in Keyword with Lists\n",
        "When used with a list, the in keyword checks if a value exists as an element in the list. It performs a linear search through the list, meaning it checks each element one by one until it finds a match or reaches the end of the list.\n",
        "\n",
        "       Time Complexity: The time complexity for using in with a list is O(n), where n is the number of elements in the list.\n",
        "\n",
        "      in Keyword with Dictionaries\n",
        "When used with a dictionary, the in keyword checks for the presence of keys rather than values. It checks if the specified key exists in the dictionary.\n",
        "\n",
        "      Time Complexity: The time complexity for using in with a dictionary is O(1) on average, because dictionaries are implemented using hash tables, which provide fast key lookups.\n",
        "\n",
        "15. Can you modify the elements of a tuple? Explain why or why not?\n",
        "   - No, you cannot modify the elements of a tuple in Python once it is created. This is because tuples are immutable, meaning their contents cannot be changed after they are initialized. Once a tuple is created, its size and the values of its elements are fixed.\n",
        "\n",
        "16.  What is a nested dictionary, and give an example of its use case?\n",
        "     - A nested dictionary in Python is a dictionary where the values themselves can be other dictionaries. In other words, a dictionary can contain other dictionaries as values, allowing for a multi-level structure. This can be useful for representing hierarchical or complex data.\n",
        "\n",
        "      Structure of a Nested Dictionary\n",
        "      A nested dictionary has a key-value pair, where the value is another dictionary. This allows for multiple layers of key-value pairs.\n",
        "      Use Case of Nested Dictionaries\n",
        "Nested dictionaries are useful when you need to store structured data with multiple levels of hierarchy, such as:\n",
        "\n",
        "       Storing User Profiles: If you're managing user data, where each user has multiple attributes (e.g., name, age, and contact details), a nested dictionary is ideal.\n",
        "\n",
        "       Storing Configuration Settings: Nested dictionaries can store complex configuration settings for applications, where each setting might have sub-settings.\n",
        "\n",
        "       Representing JSON Data: JSON objects often have nested structures, and Python dictionaries can easily represent such structures.\n",
        "\n",
        "17. Describe the time complexity of accessing elements in a dictionary?\n",
        "    - he time complexity of accessing elements in a Python dictionary is generally O(1), meaning it takes constant time to retrieve a value using a key, on average. This is one of the main advantages of using dictionaries in Python, especially when dealing with large datasets.\n",
        "18. In what situations are lists preferred over dictionaries?\n",
        "    - When the Order of Elements Matters\n",
        "Lists maintain the order of elements, meaning elements are stored and accessed in the sequence they were added. If you need to preserve the order of insertion or need operations like sorting and indexing, lists are the better choice.\n",
        "\n",
        "     When You Need Indexed Access to Elements\n",
        "Lists support indexing, which allows you to directly access elements by their position in the sequence. This is particularly useful when the position of an element matters or when you need to quickly access elements based on their index.\n",
        "\n",
        "     When You Need to Allow Duplicates\n",
        "Lists can store duplicate values, which is useful when you want to maintain multiple occurrences of the same item (for example, if you're keeping track of items in a shopping cart where quantities can repeat).\n",
        "\n",
        "     When You Need to Modify Elements in Place\n",
        "Lists are mutable, meaning you can easily add, remove, or change elements without creating a new object. If you need to perform operations like appending, inserting, or removing elements, lists are more flexible than dictionaries.\n",
        "\n",
        "19.  Why are dictionaries considered unordered, and how does that affect data retrieval?\n",
        "    - Before Python 3.7, dictionaries did not guarantee that the order of keys would be preserved. This was because dictionaries in Python were implemented using hash tables, which store data in a way that doesn't inherently preserve order.\n",
        "\n",
        "     Hash Tables: When a dictionary is created, the keys are hashed using a hash function to produce a unique hash value, which determines where the key-value pairs are stored in the hash table. The internal storage order in the hash table is based on the hash values of the keys, not their order of insertion.\n",
        "\n",
        "     Uncertainty of Order: In earlier versions of Python (pre-3.7), this hashing mechanism meant that there was no guarantee that items would appear in the same order as they were inserted. This is why dictionaries were considered unordered collections.\n",
        "\n",
        "20. Explain the difference between a list and a dictionary in terms of data retrieval?\n",
        "    -\n",
        "Feature\t     List\t        Dictionary\n",
        "Access Type\tIndexed (access by position/index)\tKey-based (access by unique key)\n",
        "Order\tOrdered (insertion order is preserved)\tUnordered (before Python 3.7), Ordered (from 3.7+)\n",
        "Time Complexity (Access)\tO(1) for index-based access, O(n) for searching by value\tO(1) for key-based access, O(n) for searching by value\n",
        "Use Case\tOrdered collections, sequential data, indexing\tMappings, key-value pair associations, fast lookups\n",
        "Best for\tAccessing elements by position or maintaining order\tStoring unique keys with associated values, fast lookups.\n",
        "\n",
        "\n"
      ],
      "metadata": {
        "id": "1E3J9lCNxYX6"
      }
    },
    {
      "cell_type": "code",
      "source": [
        "# Write a code to create a string with your name and print it\n",
        "\n",
        "# Create a string with my name\n",
        "my_name = \"Shubrajit Roy\"\n",
        "\n",
        "# Print the string\n",
        "print(my_name)"
      ],
      "metadata": {
        "colab": {
          "base_uri": "https://localhost:8080/"
        },
        "id": "ijbMdVm_DRfz",
        "outputId": "11915f03-d936-478c-883f-5c0a22ec9e1d"
      },
      "execution_count": 2,
      "outputs": [
        {
          "output_type": "stream",
          "name": "stdout",
          "text": [
            "Shubrajit Roy\n"
          ]
        }
      ]
    },
    {
      "cell_type": "code",
      "source": [
        "# Write a code to find the length of the string \"Hello World\n",
        "\n",
        "# Define the string\n",
        "my_string = \"Hello World\"\n",
        "\n",
        "# Find the length of the string\n",
        "length = len(my_string)\n",
        "\n",
        "# Print the length\n",
        "print(length)"
      ],
      "metadata": {
        "colab": {
          "base_uri": "https://localhost:8080/"
        },
        "id": "L2VEBrO2DqUR",
        "outputId": "8b1ac384-495a-464a-94e8-c5111aed5226"
      },
      "execution_count": 3,
      "outputs": [
        {
          "output_type": "stream",
          "name": "stdout",
          "text": [
            "11\n"
          ]
        }
      ]
    },
    {
      "cell_type": "code",
      "source": [
        "# Write a code to slice the first 3 characters from the string \"Python Programming\"\n",
        "\n",
        "# Define the string\n",
        "my_string = \"Python Programming\"\n",
        "\n",
        "# Slice the first 3 characters\n",
        "sliced_string = my_string[:3]\n",
        "\n",
        "# Print the sliced string\n",
        "print(sliced_string)"
      ],
      "metadata": {
        "colab": {
          "base_uri": "https://localhost:8080/"
        },
        "id": "WQoXZ29fD2ew",
        "outputId": "a040abaf-50d7-4bf3-987e-2b6135d18f32"
      },
      "execution_count": 4,
      "outputs": [
        {
          "output_type": "stream",
          "name": "stdout",
          "text": [
            "Pyt\n"
          ]
        }
      ]
    },
    {
      "cell_type": "code",
      "source": [
        "#  Write a code to convert the string \"hello\" to uppercaseE\n",
        "\n",
        "# Define the string\n",
        "my_string = \"hello\"\n",
        "\n",
        "# Convert the string to uppercase\n",
        "uppercase_string = my_string.upper()\n",
        "\n",
        "# Print the uppercase string\n",
        "print(uppercase_string)"
      ],
      "metadata": {
        "colab": {
          "base_uri": "https://localhost:8080/"
        },
        "id": "ZzCX-lIPEArI",
        "outputId": "5dbb3138-c19d-44c3-d010-f020835dc178"
      },
      "execution_count": 5,
      "outputs": [
        {
          "output_type": "stream",
          "name": "stdout",
          "text": [
            "HELLO\n"
          ]
        }
      ]
    },
    {
      "cell_type": "code",
      "source": [
        "#  Write a code to replace the word \"apple\" with \"orange\" in the string \"I like apple\"\n",
        "# Define the string\n",
        "my_string = \"I like apple\"\n",
        "\n",
        "# Replace \"apple\" with \"orange\"\n",
        "replaced_string = my_string.replace(\"apple\", \"orange\")\n",
        "\n",
        "# Print the modified string\n",
        "print(replaced_string)"
      ],
      "metadata": {
        "colab": {
          "base_uri": "https://localhost:8080/"
        },
        "id": "0m1THiv4EKjw",
        "outputId": "648d3f70-c1f8-4cd3-c4b8-d9ab5aef2ae0"
      },
      "execution_count": 6,
      "outputs": [
        {
          "output_type": "stream",
          "name": "stdout",
          "text": [
            "I like orange\n"
          ]
        }
      ]
    },
    {
      "cell_type": "code",
      "source": [
        "# Write a code to create a list with numbers 1 to 5 and print it\n",
        "  # Create a list with numbers from 1 to 5\n",
        "my_list = [1, 2, 3, 4, 5]\n",
        "\n",
        "# Print the list\n",
        "print(my_list)"
      ],
      "metadata": {
        "colab": {
          "base_uri": "https://localhost:8080/"
        },
        "id": "rErYEsfXFYoH",
        "outputId": "2a2c56aa-2c9c-4fec-db53-0befff3ecbea"
      },
      "execution_count": 7,
      "outputs": [
        {
          "output_type": "stream",
          "name": "stdout",
          "text": [
            "[1, 2, 3, 4, 5]\n"
          ]
        }
      ]
    },
    {
      "cell_type": "code",
      "source": [
        "# Write a code to append the number 10 to the list [1, 2, 3, 4]\n",
        "# Define the list\n",
        "my_list = [1, 2, 3, 4]\n",
        "\n",
        "# Append the number 10 to the list\n",
        "my_list.append(10)\n",
        "\n",
        "# Print the updated list\n",
        "print(my_list)"
      ],
      "metadata": {
        "colab": {
          "base_uri": "https://localhost:8080/"
        },
        "id": "jytPYAnXFxww",
        "outputId": "1db72ad4-7f2e-4e84-c076-870b2193ecc6"
      },
      "execution_count": 8,
      "outputs": [
        {
          "output_type": "stream",
          "name": "stdout",
          "text": [
            "[1, 2, 3, 4, 10]\n"
          ]
        }
      ]
    },
    {
      "cell_type": "code",
      "source": [
        "# Write a code to remove the number 3 from the list [1, 2, 3, 4, 5]\n",
        "# Define the list\n",
        "my_list = [1, 2, 3, 4, 5]\n",
        "\n",
        "# Remove the number 3 from the list\n",
        "my_list.remove(3)\n",
        "\n",
        "# Print the updated list\n",
        "print(my_list)"
      ],
      "metadata": {
        "colab": {
          "base_uri": "https://localhost:8080/"
        },
        "id": "f1oXuPqPF7Ao",
        "outputId": "f98b51f2-273d-412b-9eb9-efb67cdea558"
      },
      "execution_count": 9,
      "outputs": [
        {
          "output_type": "stream",
          "name": "stdout",
          "text": [
            "[1, 2, 4, 5]\n"
          ]
        }
      ]
    },
    {
      "cell_type": "code",
      "source": [
        "# Write a code to access the second element in the list ['a', 'b', 'c', 'd']\n",
        "# Define the list\n",
        "my_list = ['a', 'b', 'c', 'd']\n",
        "\n",
        "# Access the second element (index 1)\n",
        "second_element = my_list[1]\n",
        "\n",
        "# Print the second element\n",
        "print(second_element)"
      ],
      "metadata": {
        "colab": {
          "base_uri": "https://localhost:8080/"
        },
        "id": "4EWW9HMaGRwo",
        "outputId": "01a3c68c-7a13-4c32-a2a4-893e249de557"
      },
      "execution_count": 10,
      "outputs": [
        {
          "output_type": "stream",
          "name": "stdout",
          "text": [
            "b\n"
          ]
        }
      ]
    },
    {
      "cell_type": "code",
      "source": [
        "# Write a code to reverse the list [10, 20, 30, 40, 50]\n",
        "# Define the list\n",
        "my_list = [10, 20, 30, 40, 50]\n",
        "\n",
        "# Reverse the list\n",
        "reversed_list = my_list[::-1]\n",
        "\n",
        "# Print the reversed list\n",
        "print(reversed_list)"
      ],
      "metadata": {
        "colab": {
          "base_uri": "https://localhost:8080/"
        },
        "id": "8yo5ySXcGcvY",
        "outputId": "231fbdc6-cbc1-4f54-cc2b-27d1fbcbe37e"
      },
      "execution_count": 11,
      "outputs": [
        {
          "output_type": "stream",
          "name": "stdout",
          "text": [
            "[50, 40, 30, 20, 10]\n"
          ]
        }
      ]
    },
    {
      "cell_type": "code",
      "source": [
        "#  Write a code to create a tuple with the elements 10, 20, 30 and print it\n",
        "# Create a tuple with the elements 10, 20, 30\n",
        "my_tuple = (10, 20, 30)\n",
        "\n",
        "# Print the tuple\n",
        "print(my_tuple)"
      ],
      "metadata": {
        "colab": {
          "base_uri": "https://localhost:8080/"
        },
        "id": "_q1YNBZKHA3w",
        "outputId": "725e784e-712e-4b7d-aa4f-432dd1c13369"
      },
      "execution_count": 12,
      "outputs": [
        {
          "output_type": "stream",
          "name": "stdout",
          "text": [
            "(10, 20, 30)\n"
          ]
        }
      ]
    },
    {
      "cell_type": "code",
      "source": [
        "#  Write a code to access the first element of the tuple ('apple', 'banana', 'cherry').\n",
        "# Define the tuple\n",
        "my_tuple = ('apple', 'banana', 'cherry')\n",
        "\n",
        "# Access the first element (index 0)\n",
        "first_element = my_tuple[0]\n",
        "\n",
        "# Print the first element\n",
        "print(first_element)"
      ],
      "metadata": {
        "colab": {
          "base_uri": "https://localhost:8080/"
        },
        "id": "YLnwBY3yHdko",
        "outputId": "4ad86e9e-9f01-4bd1-abe5-a735804fdf64"
      },
      "execution_count": 13,
      "outputs": [
        {
          "output_type": "stream",
          "name": "stdout",
          "text": [
            "apple\n"
          ]
        }
      ]
    },
    {
      "cell_type": "code",
      "source": [
        "#  Write a code to count how many times the number 2 appears in the tuple (1, 2, 3, 2, 4, 2)\n",
        "# Define the tuple\n",
        "my_tuple = (1, 2, 3, 2, 4, 2)\n",
        "\n",
        "# Count how many times the number 2 appears in the tuple\n",
        "count_of_2 = my_tuple.count(2)\n",
        "\n",
        "# Print the count\n",
        "print(count_of_2)"
      ],
      "metadata": {
        "colab": {
          "base_uri": "https://localhost:8080/"
        },
        "id": "mWejYHObJifA",
        "outputId": "61c2954b-4b80-44a4-bdbd-6820991240ec"
      },
      "execution_count": 14,
      "outputs": [
        {
          "output_type": "stream",
          "name": "stdout",
          "text": [
            "3\n"
          ]
        }
      ]
    },
    {
      "cell_type": "code",
      "source": [
        "# Write a code to find the index of the element \"cat\" in the tuple ('dog', 'cat', 'rabbit')\n",
        "# Define the tuple\n",
        "my_tuple = ('dog', 'cat', 'rabbit')\n",
        "\n",
        "# Find the index of the element \"cat\"\n",
        "index_of_cat = my_tuple.index('cat')\n",
        "\n",
        "# Print the index\n",
        "print(index_of_cat)"
      ],
      "metadata": {
        "colab": {
          "base_uri": "https://localhost:8080/"
        },
        "id": "9NzcCPSfJqln",
        "outputId": "4e7462dd-cff3-47f0-b72f-a77c80e56ce4"
      },
      "execution_count": 15,
      "outputs": [
        {
          "output_type": "stream",
          "name": "stdout",
          "text": [
            "1\n"
          ]
        }
      ]
    },
    {
      "cell_type": "code",
      "source": [
        "# Write a code to check if the element \"banana\" is in the tuple ('apple', 'orange', 'banana').\n",
        "# Define the tuple\n",
        "my_tuple = ('apple', 'orange', 'banana')\n",
        "\n",
        "# Check if \"banana\" is in the tuple\n",
        "is_banana_in_tuple = 'banana' in my_tuple\n",
        "\n",
        "# Print the result\n",
        "print(is_banana_in_tuple)"
      ],
      "metadata": {
        "colab": {
          "base_uri": "https://localhost:8080/"
        },
        "id": "PK2nLXvEJ0WH",
        "outputId": "63cff724-2c1c-43a9-c852-4107cb2d9710"
      },
      "execution_count": 16,
      "outputs": [
        {
          "output_type": "stream",
          "name": "stdout",
          "text": [
            "True\n"
          ]
        }
      ]
    }
  ]
}